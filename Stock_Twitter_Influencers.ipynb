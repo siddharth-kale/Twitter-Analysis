{
  "nbformat": 4,
  "nbformat_minor": 0,
  "metadata": {
    "colab": {
      "name": "Stock- Twitter Influencers.ipynb",
      "provenance": [],
      "collapsed_sections": [],
      "machine_shape": "hm",
      "include_colab_link": true
    },
    "kernelspec": {
      "display_name": "Python 3",
      "name": "python3"
    },
    "language_info": {
      "name": "python"
    }
  },
  "cells": [
    {
      "cell_type": "markdown",
      "metadata": {
        "id": "view-in-github",
        "colab_type": "text"
      },
      "source": [
        "<a href=\"https://colab.research.google.com/github/siddharth-kale/Twitter-Network-Analysis/blob/main/Stock_Twitter_Influencers.ipynb\" target=\"_parent\"><img src=\"https://colab.research.google.com/assets/colab-badge.svg\" alt=\"Open In Colab\"/></a>"
      ]
    },
    {
      "cell_type": "code",
      "metadata": {
        "colab": {
          "base_uri": "https://localhost:8080/"
        },
        "id": "BwTfkjQqSWDK",
        "outputId": "7201f036-a445-4eba-8232-0ff0a8ce8424"
      },
      "source": [
        "import pandas as pd\n",
        "import numpy as np\n",
        "import matplotlib.pyplot as plt\n",
        "import seaborn as sea\n",
        "!pip install snscrape\n",
        "import snscrape.modules.twitter as sntwitter\n",
        "import re\n",
        "!pip install networkx\n",
        "import networkx as nx"
      ],
      "execution_count": 1,
      "outputs": [
        {
          "output_type": "stream",
          "name": "stdout",
          "text": [
            "Collecting snscrape\n",
            "  Downloading snscrape-0.3.4-py3-none-any.whl (35 kB)\n",
            "Requirement already satisfied: requests[socks] in /usr/local/lib/python3.7/dist-packages (from snscrape) (2.23.0)\n",
            "Requirement already satisfied: lxml in /usr/local/lib/python3.7/dist-packages (from snscrape) (4.2.6)\n",
            "Requirement already satisfied: beautifulsoup4 in /usr/local/lib/python3.7/dist-packages (from snscrape) (4.6.3)\n",
            "Requirement already satisfied: certifi>=2017.4.17 in /usr/local/lib/python3.7/dist-packages (from requests[socks]->snscrape) (2021.10.8)\n",
            "Requirement already satisfied: idna<3,>=2.5 in /usr/local/lib/python3.7/dist-packages (from requests[socks]->snscrape) (2.10)\n",
            "Requirement already satisfied: urllib3!=1.25.0,!=1.25.1,<1.26,>=1.21.1 in /usr/local/lib/python3.7/dist-packages (from requests[socks]->snscrape) (1.24.3)\n",
            "Requirement already satisfied: chardet<4,>=3.0.2 in /usr/local/lib/python3.7/dist-packages (from requests[socks]->snscrape) (3.0.4)\n",
            "Requirement already satisfied: PySocks!=1.5.7,>=1.5.6 in /usr/local/lib/python3.7/dist-packages (from requests[socks]->snscrape) (1.7.1)\n",
            "Installing collected packages: snscrape\n",
            "Successfully installed snscrape-0.3.4\n",
            "Requirement already satisfied: networkx in /usr/local/lib/python3.7/dist-packages (2.6.3)\n"
          ]
        }
      ]
    },
    {
      "cell_type": "code",
      "metadata": {
        "colab": {
          "base_uri": "https://localhost:8080/"
        },
        "id": "K5BgKGEAfjcQ",
        "outputId": "c493de7f-e228-4f23-9ee2-0bf9b827b815"
      },
      "source": [
        "from google.colab import drive\n",
        "drive.mount('gdrive')"
      ],
      "execution_count": 2,
      "outputs": [
        {
          "output_type": "stream",
          "name": "stdout",
          "text": [
            "Mounted at gdrive\n"
          ]
        }
      ]
    },
    {
      "cell_type": "code",
      "metadata": {
        "id": "Oap-o8aRgx94"
      },
      "source": [
        "pd.options.display.max_rows=1000"
      ],
      "execution_count": 3,
      "outputs": []
    },
    {
      "cell_type": "code",
      "metadata": {
        "id": "ESngm0pf704d"
      },
      "source": [
        "keyword = '$BIDU'\n",
        "startdate = \"2019-01-01\"\n",
        "enddate = \"2021-11-20\""
      ],
      "execution_count": 4,
      "outputs": []
    },
    {
      "cell_type": "code",
      "metadata": {
        "id": "v75v_bzZS2bQ"
      },
      "source": [
        "maxtweets = 5000000\n",
        "tweetlist=[]\n",
        "for i,tweet in enumerate(sntwitter.TwitterSearchScraper('{} since:{} until:{}'.format(keyword,startdate,enddate)).get_items()):\n",
        "   if i>maxtweets:\n",
        "         break\n",
        "   tweetlist.append(tweet)\n",
        "\n",
        "tweets_df = pd.DataFrame(tweetlist)"
      ],
      "execution_count": 5,
      "outputs": []
    },
    {
      "cell_type": "code",
      "metadata": {
        "id": "i_gl4OdgfIH8"
      },
      "source": [
        "tweets_df.to_csv('/content/gdrive/MyDrive/Projects/Twitter Network Analysis/Data/{}Tweets.csv'.format(keyword))"
      ],
      "execution_count": 6,
      "outputs": []
    },
    {
      "cell_type": "code",
      "metadata": {
        "id": "gzY5KamYWpWR"
      },
      "source": [
        "tweets_df  = pd.read_csv('/content/gdrive/MyDrive/Projects/Twitter Network Analysis/Data/{}Tweets.csv'.format(keyword),low_memory=False,lineterminator='\\n')"
      ],
      "execution_count": 7,
      "outputs": []
    },
    {
      "cell_type": "code",
      "metadata": {
        "colab": {
          "base_uri": "https://localhost:8080/",
          "height": 857
        },
        "id": "z6fqFFenOSNJ",
        "outputId": "9b1b0498-fa92-499d-807a-9229a4d3586d"
      },
      "source": [
        "tweets_df"
      ],
      "execution_count": 8,
      "outputs": [
        {
          "output_type": "execute_result",
          "data": {
            "text/html": [
              "<div>\n",
              "<style scoped>\n",
              "    .dataframe tbody tr th:only-of-type {\n",
              "        vertical-align: middle;\n",
              "    }\n",
              "\n",
              "    .dataframe tbody tr th {\n",
              "        vertical-align: top;\n",
              "    }\n",
              "\n",
              "    .dataframe thead th {\n",
              "        text-align: right;\n",
              "    }\n",
              "</style>\n",
              "<table border=\"1\" class=\"dataframe\">\n",
              "  <thead>\n",
              "    <tr style=\"text-align: right;\">\n",
              "      <th></th>\n",
              "      <th>Unnamed: 0</th>\n",
              "      <th>url</th>\n",
              "      <th>date</th>\n",
              "      <th>content</th>\n",
              "      <th>id</th>\n",
              "      <th>username</th>\n",
              "      <th>outlinks</th>\n",
              "      <th>outlinksss</th>\n",
              "      <th>tcooutlinks</th>\n",
              "      <th>tcooutlinksss</th>\n",
              "    </tr>\n",
              "  </thead>\n",
              "  <tbody>\n",
              "    <tr>\n",
              "      <th>0</th>\n",
              "      <td>0</td>\n",
              "      <td>https://twitter.com/Trading4JP/status/14618439...</td>\n",
              "      <td>2021-11-19 23:48:47+00:00</td>\n",
              "      <td>Third week of November scan\\nOutside week\\n$BA...</td>\n",
              "      <td>1461843928743694336</td>\n",
              "      <td>Trading4JP</td>\n",
              "      <td>[]</td>\n",
              "      <td>NaN</td>\n",
              "      <td>[]</td>\n",
              "      <td>NaN</td>\n",
              "    </tr>\n",
              "    <tr>\n",
              "      <th>1</th>\n",
              "      <td>1</td>\n",
              "      <td>https://twitter.com/newsfilterio/status/146184...</td>\n",
              "      <td>2021-11-19 23:41:47+00:00</td>\n",
              "      <td>China’s Transition Is Risky for Investors. Her...</td>\n",
              "      <td>1461842168226668545</td>\n",
              "      <td>newsfilterio</td>\n",
              "      <td>['https://newsfilter.io/articles/chinas-transi...</td>\n",
              "      <td>https://newsfilter.io/articles/chinas-transiti...</td>\n",
              "      <td>['https://t.co/5RHt0kY7Qx']</td>\n",
              "      <td>https://t.co/5RHt0kY7Qx</td>\n",
              "    </tr>\n",
              "    <tr>\n",
              "      <th>2</th>\n",
              "      <td>2</td>\n",
              "      <td>https://twitter.com/newsfilterio/status/146183...</td>\n",
              "      <td>2021-11-19 23:29:47+00:00</td>\n",
              "      <td>Europe lockdown fears rattle investors, spark ...</td>\n",
              "      <td>1461839148160102413</td>\n",
              "      <td>newsfilterio</td>\n",
              "      <td>['https://newsfilter.io/articles/europe-lockdo...</td>\n",
              "      <td>https://newsfilter.io/articles/europe-lockdown...</td>\n",
              "      <td>['https://t.co/CGw4y5yaXG']</td>\n",
              "      <td>https://t.co/CGw4y5yaXG</td>\n",
              "    </tr>\n",
              "    <tr>\n",
              "      <th>3</th>\n",
              "      <td>3</td>\n",
              "      <td>https://twitter.com/leodepisa/status/146183874...</td>\n",
              "      <td>2021-11-19 23:28:10+00:00</td>\n",
              "      <td>Top ten PEOR desempeño semanal de papeles que ...</td>\n",
              "      <td>1461838743023673345</td>\n",
              "      <td>leodepisa</td>\n",
              "      <td>[]</td>\n",
              "      <td>NaN</td>\n",
              "      <td>[]</td>\n",
              "      <td>NaN</td>\n",
              "    </tr>\n",
              "    <tr>\n",
              "      <th>4</th>\n",
              "      <td>4</td>\n",
              "      <td>https://twitter.com/VapzerSignals/status/14618...</td>\n",
              "      <td>2021-11-19 22:25:32+00:00</td>\n",
              "      <td>Scanner\\n#stocks @ 11/19/2021 2:25 PM PST\\nTF:...</td>\n",
              "      <td>1461822978497269766</td>\n",
              "      <td>VapzerSignals</td>\n",
              "      <td>[]</td>\n",
              "      <td>NaN</td>\n",
              "      <td>[]</td>\n",
              "      <td>NaN</td>\n",
              "    </tr>\n",
              "    <tr>\n",
              "      <th>...</th>\n",
              "      <td>...</td>\n",
              "      <td>...</td>\n",
              "      <td>...</td>\n",
              "      <td>...</td>\n",
              "      <td>...</td>\n",
              "      <td>...</td>\n",
              "      <td>...</td>\n",
              "      <td>...</td>\n",
              "      <td>...</td>\n",
              "      <td>...</td>\n",
              "    </tr>\n",
              "    <tr>\n",
              "      <th>99783</th>\n",
              "      <td>99783</td>\n",
              "      <td>https://twitter.com/StockflareUS/status/108002...</td>\n",
              "      <td>2019-01-01 09:09:20+00:00</td>\n",
              "      <td>$BIDU: Baidu Inc (ADR)'s forecast earnings mov...</td>\n",
              "      <td>1080028186753355777</td>\n",
              "      <td>StockflareUS</td>\n",
              "      <td>['https://stockflare.com/stock/BIDU.O']</td>\n",
              "      <td>https://stockflare.com/stock/BIDU.O</td>\n",
              "      <td>['https://t.co/Ikm27bFWXG']</td>\n",
              "      <td>https://t.co/Ikm27bFWXG</td>\n",
              "    </tr>\n",
              "    <tr>\n",
              "      <th>99784</th>\n",
              "      <td>99784</td>\n",
              "      <td>https://twitter.com/StockflareUS/status/108002...</td>\n",
              "      <td>2019-01-01 09:09:19+00:00</td>\n",
              "      <td>$BIDU: Baidu Inc (ADR)'s price is -15.8% but t...</td>\n",
              "      <td>1080028184840716288</td>\n",
              "      <td>StockflareUS</td>\n",
              "      <td>['https://stockflare.com/stock/BIDU.O']</td>\n",
              "      <td>https://stockflare.com/stock/BIDU.O</td>\n",
              "      <td>['https://t.co/Ikm27bFWXG']</td>\n",
              "      <td>https://t.co/Ikm27bFWXG</td>\n",
              "    </tr>\n",
              "    <tr>\n",
              "      <th>99785</th>\n",
              "      <td>99785</td>\n",
              "      <td>https://twitter.com/shortvolumes/status/107997...</td>\n",
              "      <td>2019-01-01 05:36:02+00:00</td>\n",
              "      <td>Short sale vol (not short interest) for $NEAR ...</td>\n",
              "      <td>1079974508616994822</td>\n",
              "      <td>shortvolumes</td>\n",
              "      <td>['http://shortvolumes.com/?t=NEAR']</td>\n",
              "      <td>http://shortvolumes.com/?t=NEAR</td>\n",
              "      <td>['https://t.co/tdsvmCwaTo']</td>\n",
              "      <td>https://t.co/tdsvmCwaTo</td>\n",
              "    </tr>\n",
              "    <tr>\n",
              "      <th>99786</th>\n",
              "      <td>99786</td>\n",
              "      <td>https://twitter.com/ExactOptionPick/status/107...</td>\n",
              "      <td>2019-01-01 01:00:27+00:00</td>\n",
              "      <td>251 Profit-Packed Option Trades Yearly--Delive...</td>\n",
              "      <td>1079905157352165376</td>\n",
              "      <td>ExactOptionPick</td>\n",
              "      <td>['http://ow.ly/wnKK30n8ZUl']</td>\n",
              "      <td>http://ow.ly/wnKK30n8ZUl</td>\n",
              "      <td>['https://t.co/ePnqPmgWVF']</td>\n",
              "      <td>https://t.co/ePnqPmgWVF</td>\n",
              "    </tr>\n",
              "    <tr>\n",
              "      <th>99787</th>\n",
              "      <td>99787</td>\n",
              "      <td>https://twitter.com/aaaamhim/status/1079892580...</td>\n",
              "      <td>2019-01-01 00:10:29+00:00</td>\n",
              "      <td>$NSPX 0041? ITS BREAKTHROUGH DRUG ON THE NEWS ...</td>\n",
              "      <td>1079892580249337856</td>\n",
              "      <td>aaaamhim</td>\n",
              "      <td>['https://youtu.be/fIgp4n3Itzo']</td>\n",
              "      <td>https://youtu.be/fIgp4n3Itzo</td>\n",
              "      <td>['https://t.co/4xpVadG901']</td>\n",
              "      <td>https://t.co/4xpVadG901</td>\n",
              "    </tr>\n",
              "  </tbody>\n",
              "</table>\n",
              "<p>99788 rows × 10 columns</p>\n",
              "</div>"
            ],
            "text/plain": [
              "       Unnamed: 0  ...            tcooutlinksss\n",
              "0               0  ...                      NaN\n",
              "1               1  ...  https://t.co/5RHt0kY7Qx\n",
              "2               2  ...  https://t.co/CGw4y5yaXG\n",
              "3               3  ...                      NaN\n",
              "4               4  ...                      NaN\n",
              "...           ...  ...                      ...\n",
              "99783       99783  ...  https://t.co/Ikm27bFWXG\n",
              "99784       99784  ...  https://t.co/Ikm27bFWXG\n",
              "99785       99785  ...  https://t.co/tdsvmCwaTo\n",
              "99786       99786  ...  https://t.co/ePnqPmgWVF\n",
              "99787       99787  ...  https://t.co/4xpVadG901\n",
              "\n",
              "[99788 rows x 10 columns]"
            ]
          },
          "metadata": {},
          "execution_count": 8
        }
      ]
    },
    {
      "cell_type": "code",
      "metadata": {
        "colab": {
          "base_uri": "https://localhost:8080/",
          "height": 874
        },
        "id": "5woa69Y4vsSw",
        "outputId": "e7e876f3-13e9-4c9d-f7b2-09cef8fcc011"
      },
      "source": [
        "#Code to filter out only the ticker\n",
        "templist=[]\n",
        "\n",
        "for i in range(0,len(tweets_df)):\n",
        "  \n",
        "  if keyword[0]=='$':    \n",
        "    templist=re.findall('\\$\\w+',str(tweets_df.iloc[i,3]))\n",
        "  else:\n",
        "    templist=re.findall('(?i){}'.format(keyword),str(tweets_df.iloc[i,3]))\n",
        "  \n",
        "  tweets_df.loc[i,'TickerCount'] = len(templist)\n",
        "  templist.clear()\n",
        "\n",
        "onlyticker = tweets_df[tweets_df['TickerCount']==1]\n",
        "onlyticker = onlyticker.drop(columns=['Unnamed: 0']).reset_index().drop(columns='index')\n",
        "onlyticker"
      ],
      "execution_count": 9,
      "outputs": [
        {
          "output_type": "execute_result",
          "data": {
            "text/html": [
              "<div>\n",
              "<style scoped>\n",
              "    .dataframe tbody tr th:only-of-type {\n",
              "        vertical-align: middle;\n",
              "    }\n",
              "\n",
              "    .dataframe tbody tr th {\n",
              "        vertical-align: top;\n",
              "    }\n",
              "\n",
              "    .dataframe thead th {\n",
              "        text-align: right;\n",
              "    }\n",
              "</style>\n",
              "<table border=\"1\" class=\"dataframe\">\n",
              "  <thead>\n",
              "    <tr style=\"text-align: right;\">\n",
              "      <th></th>\n",
              "      <th>url</th>\n",
              "      <th>date</th>\n",
              "      <th>content</th>\n",
              "      <th>id</th>\n",
              "      <th>username</th>\n",
              "      <th>outlinks</th>\n",
              "      <th>outlinksss</th>\n",
              "      <th>tcooutlinks</th>\n",
              "      <th>tcooutlinksss</th>\n",
              "      <th>TickerCount</th>\n",
              "    </tr>\n",
              "  </thead>\n",
              "  <tbody>\n",
              "    <tr>\n",
              "      <th>0</th>\n",
              "      <td>https://twitter.com/VapzerSignals/status/14618...</td>\n",
              "      <td>2021-11-19 22:25:32+00:00</td>\n",
              "      <td>Scanner\\n#stocks @ 11/19/2021 2:25 PM PST\\nTF:...</td>\n",
              "      <td>1461822978497269766</td>\n",
              "      <td>VapzerSignals</td>\n",
              "      <td>[]</td>\n",
              "      <td>NaN</td>\n",
              "      <td>[]</td>\n",
              "      <td>NaN</td>\n",
              "      <td>1.0</td>\n",
              "    </tr>\n",
              "    <tr>\n",
              "      <th>1</th>\n",
              "      <td>https://twitter.com/dailycandlestix/status/146...</td>\n",
              "      <td>2021-11-19 21:20:58+00:00</td>\n",
              "      <td>$BIDU Minor Breakdown\\nDaily appearances since...</td>\n",
              "      <td>1461806731818778624</td>\n",
              "      <td>dailycandlestix</td>\n",
              "      <td>[]</td>\n",
              "      <td>NaN</td>\n",
              "      <td>[]</td>\n",
              "      <td>NaN</td>\n",
              "      <td>1.0</td>\n",
              "    </tr>\n",
              "    <tr>\n",
              "      <th>2</th>\n",
              "      <td>https://twitter.com/TradeWithAlerts/status/146...</td>\n",
              "      <td>2021-11-19 20:33:32+00:00</td>\n",
              "      <td>A nice print for $BIDU at 3:33pm -- SIDE: Near...</td>\n",
              "      <td>1461794795127545857</td>\n",
              "      <td>TradeWithAlerts</td>\n",
              "      <td>['https://tradewithalerts.com/last-print/BIDU'...</td>\n",
              "      <td>https://tradewithalerts.com/last-print/BIDU ht...</td>\n",
              "      <td>['https://t.co/wOzt2qqlSF', 'https://t.co/VC1L...</td>\n",
              "      <td>https://t.co/wOzt2qqlSF https://t.co/VC1LdPHaJ...</td>\n",
              "      <td>1.0</td>\n",
              "    </tr>\n",
              "    <tr>\n",
              "      <th>3</th>\n",
              "      <td>https://twitter.com/NohaWolfe/status/146177109...</td>\n",
              "      <td>2021-11-19 18:59:23+00:00</td>\n",
              "      <td>$BIDU ~Do you want option or stock alerts on t...</td>\n",
              "      <td>1461771099444629507</td>\n",
              "      <td>NohaWolfe</td>\n",
              "      <td>['https://discord.gg/hHyAcn6AFZ']</td>\n",
              "      <td>https://discord.gg/hHyAcn6AFZ</td>\n",
              "      <td>['https://t.co/7faSSkpeEZ']</td>\n",
              "      <td>https://t.co/7faSSkpeEZ</td>\n",
              "      <td>1.0</td>\n",
              "    </tr>\n",
              "    <tr>\n",
              "      <th>4</th>\n",
              "      <td>https://twitter.com/pingkind/status/1461767815...</td>\n",
              "      <td>2021-11-19 18:46:20+00:00</td>\n",
              "      <td>$BIDU weekly bear flag broken downward. https:...</td>\n",
              "      <td>1461767815061336066</td>\n",
              "      <td>pingkind</td>\n",
              "      <td>[]</td>\n",
              "      <td>NaN</td>\n",
              "      <td>[]</td>\n",
              "      <td>NaN</td>\n",
              "      <td>1.0</td>\n",
              "    </tr>\n",
              "    <tr>\n",
              "      <th>...</th>\n",
              "      <td>...</td>\n",
              "      <td>...</td>\n",
              "      <td>...</td>\n",
              "      <td>...</td>\n",
              "      <td>...</td>\n",
              "      <td>...</td>\n",
              "      <td>...</td>\n",
              "      <td>...</td>\n",
              "      <td>...</td>\n",
              "      <td>...</td>\n",
              "    </tr>\n",
              "    <tr>\n",
              "      <th>25853</th>\n",
              "      <td>https://twitter.com/CFinancialNews/status/1080...</td>\n",
              "      <td>2019-01-01 13:00:36+00:00</td>\n",
              "      <td>Baidu Inc $BIDU Receives Consensus Recommendat...</td>\n",
              "      <td>1080086386504617984</td>\n",
              "      <td>CFinancialNews</td>\n",
              "      <td>['http://americanbankingnews.com/?p=9126354']</td>\n",
              "      <td>http://americanbankingnews.com/?p=9126354</td>\n",
              "      <td>['https://t.co/Ll4n1d8BJZ']</td>\n",
              "      <td>https://t.co/Ll4n1d8BJZ</td>\n",
              "      <td>1.0</td>\n",
              "    </tr>\n",
              "    <tr>\n",
              "      <th>25854</th>\n",
              "      <td>https://twitter.com/AmericanBanking/status/108...</td>\n",
              "      <td>2019-01-01 13:00:35+00:00</td>\n",
              "      <td>Baidu Inc $BIDU Receives Consensus Recommendat...</td>\n",
              "      <td>1080086381458804736</td>\n",
              "      <td>AmericanBanking</td>\n",
              "      <td>['http://americanbankingnews.com/?p=9126354']</td>\n",
              "      <td>http://americanbankingnews.com/?p=9126354</td>\n",
              "      <td>['https://t.co/03y3AfxSFJ']</td>\n",
              "      <td>https://t.co/03y3AfxSFJ</td>\n",
              "      <td>1.0</td>\n",
              "    </tr>\n",
              "    <tr>\n",
              "      <th>25855</th>\n",
              "      <td>https://twitter.com/ThisLincolnian/status/1080...</td>\n",
              "      <td>2019-01-01 12:59:31+00:00</td>\n",
              "      <td>Baidu Inc $BIDU Receives Consensus Recommendat...</td>\n",
              "      <td>1080086115560947712</td>\n",
              "      <td>ThisLincolnian</td>\n",
              "      <td>['http://thelincolnianonline.com/?p=2598942']</td>\n",
              "      <td>http://thelincolnianonline.com/?p=2598942</td>\n",
              "      <td>['https://t.co/f4s9LpkNa5']</td>\n",
              "      <td>https://t.co/f4s9LpkNa5</td>\n",
              "      <td>1.0</td>\n",
              "    </tr>\n",
              "    <tr>\n",
              "      <th>25856</th>\n",
              "      <td>https://twitter.com/StockflareUS/status/108002...</td>\n",
              "      <td>2019-01-01 09:09:20+00:00</td>\n",
              "      <td>$BIDU: Baidu Inc (ADR)'s forecast earnings mov...</td>\n",
              "      <td>1080028186753355777</td>\n",
              "      <td>StockflareUS</td>\n",
              "      <td>['https://stockflare.com/stock/BIDU.O']</td>\n",
              "      <td>https://stockflare.com/stock/BIDU.O</td>\n",
              "      <td>['https://t.co/Ikm27bFWXG']</td>\n",
              "      <td>https://t.co/Ikm27bFWXG</td>\n",
              "      <td>1.0</td>\n",
              "    </tr>\n",
              "    <tr>\n",
              "      <th>25857</th>\n",
              "      <td>https://twitter.com/StockflareUS/status/108002...</td>\n",
              "      <td>2019-01-01 09:09:19+00:00</td>\n",
              "      <td>$BIDU: Baidu Inc (ADR)'s price is -15.8% but t...</td>\n",
              "      <td>1080028184840716288</td>\n",
              "      <td>StockflareUS</td>\n",
              "      <td>['https://stockflare.com/stock/BIDU.O']</td>\n",
              "      <td>https://stockflare.com/stock/BIDU.O</td>\n",
              "      <td>['https://t.co/Ikm27bFWXG']</td>\n",
              "      <td>https://t.co/Ikm27bFWXG</td>\n",
              "      <td>1.0</td>\n",
              "    </tr>\n",
              "  </tbody>\n",
              "</table>\n",
              "<p>25858 rows × 10 columns</p>\n",
              "</div>"
            ],
            "text/plain": [
              "                                                     url  ... TickerCount\n",
              "0      https://twitter.com/VapzerSignals/status/14618...  ...         1.0\n",
              "1      https://twitter.com/dailycandlestix/status/146...  ...         1.0\n",
              "2      https://twitter.com/TradeWithAlerts/status/146...  ...         1.0\n",
              "3      https://twitter.com/NohaWolfe/status/146177109...  ...         1.0\n",
              "4      https://twitter.com/pingkind/status/1461767815...  ...         1.0\n",
              "...                                                  ...  ...         ...\n",
              "25853  https://twitter.com/CFinancialNews/status/1080...  ...         1.0\n",
              "25854  https://twitter.com/AmericanBanking/status/108...  ...         1.0\n",
              "25855  https://twitter.com/ThisLincolnian/status/1080...  ...         1.0\n",
              "25856  https://twitter.com/StockflareUS/status/108002...  ...         1.0\n",
              "25857  https://twitter.com/StockflareUS/status/108002...  ...         1.0\n",
              "\n",
              "[25858 rows x 10 columns]"
            ]
          },
          "metadata": {},
          "execution_count": 9
        }
      ]
    },
    {
      "cell_type": "code",
      "metadata": {
        "colab": {
          "base_uri": "https://localhost:8080/",
          "height": 417
        },
        "id": "kwDv7G1tB-EW",
        "outputId": "dbc5a050-12f6-40fc-c6e2-c949d722c94c"
      },
      "source": [
        "interaction_df = pd.DataFrame(columns=['source','target'])\n",
        "ind=0\n",
        "for i in range(0,len(onlyticker)):\n",
        "  templist=[]\n",
        "  templist=re.findall('@\\w+',str(onlyticker.iloc[i,2]))\n",
        "  \n",
        "  if len(templist)==0:\n",
        "    interaction_df.loc[ind,'source'] = onlyticker.iloc[i,4]\n",
        "    interaction_df.loc[ind,'target'] = ''\n",
        "    ind = ind+1\n",
        "\n",
        "  else:\n",
        "    for j in range(0,len(templist)):\n",
        "      interaction_df.loc[ind,'source'] = onlyticker.iloc[i,4]\n",
        "      interaction_df.loc[ind,'target'] = templist[j][1:]\n",
        "      ind = ind+1\n",
        "\n",
        "interaction_df\n",
        "\n"
      ],
      "execution_count": 10,
      "outputs": [
        {
          "output_type": "execute_result",
          "data": {
            "text/html": [
              "<div>\n",
              "<style scoped>\n",
              "    .dataframe tbody tr th:only-of-type {\n",
              "        vertical-align: middle;\n",
              "    }\n",
              "\n",
              "    .dataframe tbody tr th {\n",
              "        vertical-align: top;\n",
              "    }\n",
              "\n",
              "    .dataframe thead th {\n",
              "        text-align: right;\n",
              "    }\n",
              "</style>\n",
              "<table border=\"1\" class=\"dataframe\">\n",
              "  <thead>\n",
              "    <tr style=\"text-align: right;\">\n",
              "      <th></th>\n",
              "      <th>source</th>\n",
              "      <th>target</th>\n",
              "    </tr>\n",
              "  </thead>\n",
              "  <tbody>\n",
              "    <tr>\n",
              "      <th>0</th>\n",
              "      <td>VapzerSignals</td>\n",
              "      <td></td>\n",
              "    </tr>\n",
              "    <tr>\n",
              "      <th>1</th>\n",
              "      <td>dailycandlestix</td>\n",
              "      <td></td>\n",
              "    </tr>\n",
              "    <tr>\n",
              "      <th>2</th>\n",
              "      <td>TradeWithAlerts</td>\n",
              "      <td></td>\n",
              "    </tr>\n",
              "    <tr>\n",
              "      <th>3</th>\n",
              "      <td>NohaWolfe</td>\n",
              "      <td></td>\n",
              "    </tr>\n",
              "    <tr>\n",
              "      <th>4</th>\n",
              "      <td>pingkind</td>\n",
              "      <td></td>\n",
              "    </tr>\n",
              "    <tr>\n",
              "      <th>...</th>\n",
              "      <td>...</td>\n",
              "      <td>...</td>\n",
              "    </tr>\n",
              "    <tr>\n",
              "      <th>26815</th>\n",
              "      <td>CFinancialNews</td>\n",
              "      <td></td>\n",
              "    </tr>\n",
              "    <tr>\n",
              "      <th>26816</th>\n",
              "      <td>AmericanBanking</td>\n",
              "      <td></td>\n",
              "    </tr>\n",
              "    <tr>\n",
              "      <th>26817</th>\n",
              "      <td>ThisLincolnian</td>\n",
              "      <td></td>\n",
              "    </tr>\n",
              "    <tr>\n",
              "      <th>26818</th>\n",
              "      <td>StockflareUS</td>\n",
              "      <td></td>\n",
              "    </tr>\n",
              "    <tr>\n",
              "      <th>26819</th>\n",
              "      <td>StockflareUS</td>\n",
              "      <td></td>\n",
              "    </tr>\n",
              "  </tbody>\n",
              "</table>\n",
              "<p>26820 rows × 2 columns</p>\n",
              "</div>"
            ],
            "text/plain": [
              "                source target\n",
              "0        VapzerSignals       \n",
              "1      dailycandlestix       \n",
              "2      TradeWithAlerts       \n",
              "3            NohaWolfe       \n",
              "4             pingkind       \n",
              "...                ...    ...\n",
              "26815   CFinancialNews       \n",
              "26816  AmericanBanking       \n",
              "26817   ThisLincolnian       \n",
              "26818     StockflareUS       \n",
              "26819     StockflareUS       \n",
              "\n",
              "[26820 rows x 2 columns]"
            ]
          },
          "metadata": {},
          "execution_count": 10
        }
      ]
    },
    {
      "cell_type": "code",
      "metadata": {
        "id": "w5bL06JWciQK"
      },
      "source": [
        "interaction_df = interaction_df[interaction_df['target'].isin(interaction_df['source'])]"
      ],
      "execution_count": 11,
      "outputs": []
    },
    {
      "cell_type": "code",
      "metadata": {
        "id": "Dj-isUFxh5yE"
      },
      "source": [
        "filterout=[]"
      ],
      "execution_count": 12,
      "outputs": []
    },
    {
      "cell_type": "code",
      "metadata": {
        "id": "37o4dvoGZPbr"
      },
      "source": [
        "nodes_df = pd.DataFrame(interaction_df.stack()).reset_index().drop(columns=['level_0','level_1'])\n",
        "nodes_df.columns=['username']\n",
        "complete_nodes=list(set(nodes_df[~nodes_df['username'].isin(filterout)]['username'].to_list()))"
      ],
      "execution_count": 13,
      "outputs": []
    },
    {
      "cell_type": "code",
      "metadata": {
        "id": "S5si4E0Go5P5"
      },
      "source": [
        "G = nx.DiGraph()"
      ],
      "execution_count": 14,
      "outputs": []
    },
    {
      "cell_type": "code",
      "metadata": {
        "colab": {
          "base_uri": "https://localhost:8080/"
        },
        "id": "qViAmfYQpVpj",
        "outputId": "09dfa488-c309-4d71-9462-2510c8e83cbc"
      },
      "source": [
        "for i in range(0,len(complete_nodes)):\n",
        "  G.add_node(complete_nodes[i])\n",
        "\n",
        "print(G.number_of_nodes())"
      ],
      "execution_count": 15,
      "outputs": [
        {
          "output_type": "stream",
          "name": "stdout",
          "text": [
            "1576\n"
          ]
        }
      ]
    },
    {
      "cell_type": "code",
      "metadata": {
        "id": "mo30r9MpsdA9"
      },
      "source": [
        "full_interaction_df = interaction_df[~interaction_df['target'].isin(filterout)]\n",
        "for i in range(0,len(full_interaction_df)):\n",
        "  G.add_edge(full_interaction_df.iloc[i,0],full_interaction_df.iloc[i,1])"
      ],
      "execution_count": 16,
      "outputs": []
    },
    {
      "cell_type": "code",
      "metadata": {
        "colab": {
          "base_uri": "https://localhost:8080/",
          "height": 357
        },
        "id": "9ICwRpIPCLRG",
        "outputId": "b4c4495b-5440-42bf-c038-796d61fbe6f9"
      },
      "source": [
        "nodedegree=pd.DataFrame.from_dict(dict(G.in_degree),orient='index')\n",
        "nodedegree = nodedegree.reset_index()\n",
        "nodedegree.columns=['Name','InDegree']\n",
        "nodedegree = nodedegree.sort_values(by='InDegree',ascending=False)\n",
        "nodedegree.head(10)"
      ],
      "execution_count": 17,
      "outputs": [
        {
          "output_type": "execute_result",
          "data": {
            "text/html": [
              "<div>\n",
              "<style scoped>\n",
              "    .dataframe tbody tr th:only-of-type {\n",
              "        vertical-align: middle;\n",
              "    }\n",
              "\n",
              "    .dataframe tbody tr th {\n",
              "        vertical-align: top;\n",
              "    }\n",
              "\n",
              "    .dataframe thead th {\n",
              "        text-align: right;\n",
              "    }\n",
              "</style>\n",
              "<table border=\"1\" class=\"dataframe\">\n",
              "  <thead>\n",
              "    <tr style=\"text-align: right;\">\n",
              "      <th></th>\n",
              "      <th>Name</th>\n",
              "      <th>InDegree</th>\n",
              "    </tr>\n",
              "  </thead>\n",
              "  <tbody>\n",
              "    <tr>\n",
              "      <th>573</th>\n",
              "      <td>TrendSpider</td>\n",
              "      <td>42</td>\n",
              "    </tr>\n",
              "    <tr>\n",
              "      <th>1246</th>\n",
              "      <td>traderstewie</td>\n",
              "      <td>35</td>\n",
              "    </tr>\n",
              "    <tr>\n",
              "      <th>361</th>\n",
              "      <td>data168</td>\n",
              "      <td>33</td>\n",
              "    </tr>\n",
              "    <tr>\n",
              "      <th>878</th>\n",
              "      <td>Baidu_Inc</td>\n",
              "      <td>28</td>\n",
              "    </tr>\n",
              "    <tr>\n",
              "      <th>1323</th>\n",
              "      <td>StockDweebs</td>\n",
              "      <td>26</td>\n",
              "    </tr>\n",
              "    <tr>\n",
              "      <th>172</th>\n",
              "      <td>ripster47</td>\n",
              "      <td>24</td>\n",
              "    </tr>\n",
              "    <tr>\n",
              "      <th>198</th>\n",
              "      <td>StockMKTNewz</td>\n",
              "      <td>22</td>\n",
              "    </tr>\n",
              "    <tr>\n",
              "      <th>254</th>\n",
              "      <td>saxena_puru</td>\n",
              "      <td>20</td>\n",
              "    </tr>\n",
              "    <tr>\n",
              "      <th>844</th>\n",
              "      <td>EliteOptions2</td>\n",
              "      <td>19</td>\n",
              "    </tr>\n",
              "    <tr>\n",
              "      <th>388</th>\n",
              "      <td>skaushi</td>\n",
              "      <td>14</td>\n",
              "    </tr>\n",
              "  </tbody>\n",
              "</table>\n",
              "</div>"
            ],
            "text/plain": [
              "               Name  InDegree\n",
              "573     TrendSpider        42\n",
              "1246   traderstewie        35\n",
              "361         data168        33\n",
              "878       Baidu_Inc        28\n",
              "1323    StockDweebs        26\n",
              "172       ripster47        24\n",
              "198    StockMKTNewz        22\n",
              "254     saxena_puru        20\n",
              "844   EliteOptions2        19\n",
              "388         skaushi        14"
            ]
          },
          "metadata": {},
          "execution_count": 17
        }
      ]
    },
    {
      "cell_type": "code",
      "metadata": {
        "id": "wq-YonghCYYr"
      },
      "source": [
        "d =dict(G.in_degree)\n",
        "plt.figure(figsize=(400,400))\n",
        "plt.title('Twitter Interaction Graph for {}'.format(keyword))\n",
        "nx.draw(G,node_size=[(x+1) * 100 for x in list(d.values())],with_labels=True)\n",
        "plt.savefig('{}.png'.format(keyword))"
      ],
      "execution_count": 18,
      "outputs": []
    }
  ]
}