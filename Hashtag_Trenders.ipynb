{
  "nbformat": 4,
  "nbformat_minor": 0,
  "metadata": {
    "colab": {
      "name": "Hashtag Trenders.ipynb",
      "provenance": [],
      "collapsed_sections": [],
      "machine_shape": "hm",
      "include_colab_link": true
    },
    "kernelspec": {
      "display_name": "Python 3",
      "name": "python3"
    },
    "language_info": {
      "name": "python"
    }
  },
  "cells": [
    {
      "cell_type": "markdown",
      "metadata": {
        "id": "view-in-github",
        "colab_type": "text"
      },
      "source": [
        "<a href=\"https://colab.research.google.com/github/siddharth-kale/Twitter-Network-Analysis/blob/main/Hashtag_Trenders.ipynb\" target=\"_parent\"><img src=\"https://colab.research.google.com/assets/colab-badge.svg\" alt=\"Open In Colab\"/></a>"
      ]
    },
    {
      "cell_type": "code",
      "metadata": {
        "id": "BwTfkjQqSWDK"
      },
      "source": [
        "import pandas as pd\n",
        "import numpy as np\n",
        "import matplotlib.pyplot as plt\n",
        "import seaborn as sea\n",
        "!pip install snscrape\n",
        "import snscrape.modules.twitter as sntwitter\n",
        "import re\n",
        "!pip install networkx\n",
        "import networkx as nx"
      ],
      "execution_count": null,
      "outputs": []
    },
    {
      "cell_type": "code",
      "metadata": {
        "id": "Oap-o8aRgx94"
      },
      "source": [
        "pd.options.display.max_rows=1000"
      ],
      "execution_count": null,
      "outputs": []
    },
    {
      "cell_type": "code",
      "metadata": {
        "id": "lFP6_fYG51-y"
      },
      "source": [
        "keyword = ''\n",
        "startdate = \"2020-01-01\"\n",
        "enddate = \"2021-11-11\""
      ],
      "execution_count": null,
      "outputs": []
    },
    {
      "cell_type": "code",
      "metadata": {
        "id": "v75v_bzZS2bQ"
      },
      "source": [
        "maxtweets = 5000000\n",
        "tweetlist=[]\n",
        "for i,tweet in enumerate(sntwitter.TwitterSearchScraper('{} since:{} until:{}'.format(keyword,startdate,enddate)).get_items()):\n",
        "   if i>maxtweets:\n",
        "         break\n",
        "   tweetlist.append(tweet)\n",
        "\n",
        "tweets_df = pd.DataFrame(tweetlist)"
      ],
      "execution_count": null,
      "outputs": []
    },
    {
      "cell_type": "code",
      "metadata": {
        "id": "0MCFGFu8ivMW"
      },
      "source": [
        "from google.colab import drive\n",
        "drive.mount('/content/gdrive')"
      ],
      "execution_count": null,
      "outputs": []
    },
    {
      "cell_type": "code",
      "metadata": {
        "id": "GfO7vM1ni4-o"
      },
      "source": [
        "tweets_df.to_csv('/content/gdrive/MyDrive/Projects/Twitter Network Analysis/Data/{}Trender.csv'.format(keyword))"
      ],
      "execution_count": null,
      "outputs": []
    },
    {
      "cell_type": "code",
      "metadata": {
        "id": "7NP56XVwJXow"
      },
      "source": [
        "tweets_df = pd.read_csv('/content/gdrive/MyDrive/Projects/Twitter Network Analysis/Data/{}Trender.csv'.format(keyword))"
      ],
      "execution_count": null,
      "outputs": []
    },
    {
      "cell_type": "code",
      "metadata": {
        "id": "Bh4rtKGnJ85D"
      },
      "source": [
        "tweets_df = tweets_df.drop(columns=['Unnamed: 0'])\n",
        "tweets_df = tweets_df.drop_duplicates(subset='id')\n",
        "tweets_df"
      ],
      "execution_count": null,
      "outputs": []
    },
    {
      "cell_type": "code",
      "metadata": {
        "id": "kwDv7G1tB-EW"
      },
      "source": [
        "interaction_df = pd.DataFrame(columns=['source','target'])\n",
        "ind=0\n",
        "for i in range(0,len(tweets_df)):\n",
        "  templist=[]\n",
        "  templist=re.findall('@\\w+',str(tweets_df.iloc[i,2]))\n",
        "  \n",
        "  if len(templist)==0:\n",
        "    interaction_df.loc[ind,'source'] = tweets_df.iloc[i,4]\n",
        "    interaction_df.loc[ind,'target'] = ''\n",
        "    ind = ind+1\n",
        "\n",
        "  else:\n",
        "    for j in range(0,len(templist)): \n",
        "      interaction_df.loc[ind,'source'] = tweets_df.iloc[i,4]\n",
        "      interaction_df.loc[ind,'target'] = templist[j][1:]\n",
        "      ind = ind+1\n",
        "\n",
        "interaction_df.head(999)\n",
        "\n"
      ],
      "execution_count": null,
      "outputs": []
    },
    {
      "cell_type": "code",
      "metadata": {
        "id": "wcxFiXdgP3FI"
      },
      "source": [
        "temp=pd.DataFrame(interaction_df.stack()).reset_index().drop(columns=['level_0'])\n",
        "temp=temp[temp['level_1']=='source']\n",
        "temp.columns=['type','source']\n",
        "temp"
      ],
      "execution_count": null,
      "outputs": []
    },
    {
      "cell_type": "code",
      "metadata": {
        "id": "jAMAC_BSir2t"
      },
      "source": [
        "htrenders=temp['source'].value_counts().to_frame().reset_index()\n",
        "htrenders.columns=['Account','Tweets']\n",
        "htrenders.head(10)"
      ],
      "execution_count": null,
      "outputs": []
    },
    {
      "cell_type": "code",
      "metadata": {
        "id": "37o4dvoGZPbr"
      },
      "source": [
        "nodes_df = pd.DataFrame(interaction_df.stack()).reset_index().drop(columns=['level_0','level_1'])\n",
        "nodes_df.columns=['username']\n",
        "complete_nodes=list(set(nodes_df[nodes_df['username']!='']['username'].to_list()))"
      ],
      "execution_count": null,
      "outputs": []
    },
    {
      "cell_type": "code",
      "metadata": {
        "id": "S5si4E0Go5P5"
      },
      "source": [
        "G = nx.DiGraph()"
      ],
      "execution_count": null,
      "outputs": []
    },
    {
      "cell_type": "code",
      "metadata": {
        "id": "qViAmfYQpVpj"
      },
      "source": [
        "for i in range(0,len(complete_nodes)):\n",
        "  G.add_node(complete_nodes[i])\n",
        "\n",
        "print(G.number_of_nodes())"
      ],
      "execution_count": null,
      "outputs": []
    },
    {
      "cell_type": "code",
      "metadata": {
        "id": "mo30r9MpsdA9"
      },
      "source": [
        "full_interaction_df = interaction_df[interaction_df['target']!='']\n",
        "for i in range(0,len(full_interaction_df)):\n",
        "  G.add_edge(full_interaction_df.iloc[i,0],full_interaction_df.iloc[i,1])"
      ],
      "execution_count": null,
      "outputs": []
    },
    {
      "cell_type": "code",
      "metadata": {
        "id": "9ICwRpIPCLRG"
      },
      "source": [
        "nodedegree=pd.DataFrame.from_dict(dict(G.out_degree),orient='index')\n",
        "nodedegree = nodedegree.reset_index()\n",
        "nodedegree.columns=['Name','Outreach']\n",
        "nodedegree = nodedegree.sort_values(by='Outreach',ascending=False)\n",
        "nodedegree.head(50)"
      ],
      "execution_count": null,
      "outputs": []
    },
    {
      "cell_type": "code",
      "metadata": {
        "id": "wq-YonghCYYr"
      },
      "source": [
        "d =dict(G.out_degree)\n",
        "plt.figure(figsize=(400,400))\n",
        "plt.title('Twitter Interaction Graph for {}'.format(keyword))\n",
        "nx.draw(G,node_size=[(x+1) * 100 for x in list(d.values())],with_labels=True)\n",
        "plt.savefig('{}.png'.format(keyword))"
      ],
      "execution_count": null,
      "outputs": []
    }
  ]
}