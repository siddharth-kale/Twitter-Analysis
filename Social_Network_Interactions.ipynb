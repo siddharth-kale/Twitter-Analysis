{
  "nbformat": 4,
  "nbformat_minor": 0,
  "metadata": {
    "colab": {
      "name": "Social Network Interactions.ipynb",
      "provenance": [],
      "collapsed_sections": [],
      "include_colab_link": true
    },
    "kernelspec": {
      "display_name": "Python 3",
      "name": "python3"
    },
    "language_info": {
      "name": "python"
    }
  },
  "cells": [
    {
      "cell_type": "markdown",
      "metadata": {
        "id": "view-in-github",
        "colab_type": "text"
      },
      "source": [
        "<a href=\"https://colab.research.google.com/github/siddharth-kale/Twitter-Network-Analysis/blob/main/Social_Network_Interactions.ipynb\" target=\"_parent\"><img src=\"https://colab.research.google.com/assets/colab-badge.svg\" alt=\"Open In Colab\"/></a>"
      ]
    },
    {
      "cell_type": "code",
      "metadata": {
        "id": "BwTfkjQqSWDK"
      },
      "source": [
        "!pip install snscrape\n",
        "!pip install networkx"
      ],
      "execution_count": null,
      "outputs": []
    },
    {
      "cell_type": "code",
      "metadata": {
        "id": "_sawajBfyXbv"
      },
      "source": [
        "import pandas as pd\n",
        "import numpy as np\n",
        "import matplotlib.pyplot as plt\n",
        "import seaborn as sea\n",
        "import snscrape.modules.twitter as sntwitter\n",
        "import re\n",
        "import networkx as nx"
      ],
      "execution_count": null,
      "outputs": []
    },
    {
      "cell_type": "code",
      "metadata": {
        "id": "Oap-o8aRgx94"
      },
      "source": [
        "pd.options.display.max_rows=1000"
      ],
      "execution_count": null,
      "outputs": []
    },
    {
      "cell_type": "code",
      "metadata": {
        "id": "v75v_bzZS2bQ"
      },
      "source": [
        "maxtweets = 1000000\n",
        "tweetlist=[]\n",
        "username = 'CathieDWood'\n",
        "\n",
        "for i,tweet in enumerate(sntwitter.TwitterSearchScraper('from:{}'.format(username)).get_items()):\n",
        "    if i>maxtweets:\n",
        "        break\n",
        "    tweetlist.append(tweet)\n",
        "\n",
        "tweets_df = pd.DataFrame(tweetlist)"
      ],
      "execution_count": null,
      "outputs": []
    },
    {
      "cell_type": "code",
      "metadata": {
        "id": "Ol10DFl8r4kp"
      },
      "source": [
        "tweets_df = tweets_df.reset_index()"
      ],
      "execution_count": null,
      "outputs": []
    },
    {
      "cell_type": "code",
      "metadata": {
        "id": "kwDv7G1tB-EW"
      },
      "source": [
        "userlist=[]\n",
        "\n",
        "for i in range(0,len(tweets_df)):\n",
        "  templist=[]\n",
        "  templist=re.findall('@\\w+',str(tweets_df.iloc[i,3]))\n",
        "  for j in enumerate(templist):\n",
        "    userlist.append(j[1])\n"
      ],
      "execution_count": null,
      "outputs": []
    },
    {
      "cell_type": "code",
      "metadata": {
        "id": "-QViO54XJL4R"
      },
      "source": [
        "countlist = []\n",
        "userarray= np.unique(np.array(userlist))\n",
        "for i in enumerate(userarray):\n",
        "  counter = userlist.count(i[1])\n",
        "  countlist.append(counter)\n",
        "\n",
        "interaction_df = pd.DataFrame(list(zip(userarray,countlist)),columns=['Username','Interactions'])"
      ],
      "execution_count": null,
      "outputs": []
    },
    {
      "cell_type": "code",
      "metadata": {
        "id": "x7sg5vBGd0cp"
      },
      "source": [
        "sorted_df=interaction_df.sort_values(by='Interactions',ascending=False).head(500)"
      ],
      "execution_count": null,
      "outputs": []
    },
    {
      "cell_type": "code",
      "metadata": {
        "id": "HpmxvDUCtPfP"
      },
      "source": [
        "sorted_df"
      ],
      "execution_count": null,
      "outputs": []
    },
    {
      "cell_type": "code",
      "metadata": {
        "id": "S5si4E0Go5P5"
      },
      "source": [
        "G = nx.Graph()"
      ],
      "execution_count": null,
      "outputs": []
    },
    {
      "cell_type": "code",
      "metadata": {
        "id": "qViAmfYQpVpj"
      },
      "source": [
        "G.add_node(username)\n",
        "\n",
        "for i in range(1,len(sorted_df)):\n",
        "  G.add_node(sorted_df.iloc[i-1,0])\n",
        "  G.add_edge(username,sorted_df.iloc[i-1,0])\n",
        "\n",
        "print(G.number_of_nodes())"
      ],
      "execution_count": null,
      "outputs": []
    },
    {
      "cell_type": "code",
      "metadata": {
        "id": "9ICwRpIPCLRG"
      },
      "source": [
        "nodesize = sorted_df['Interactions'].to_list()\n",
        "newnodesize = [i*50 for i in nodesize]\n",
        "len(newnodesize)"
      ],
      "execution_count": null,
      "outputs": []
    },
    {
      "cell_type": "code",
      "metadata": {
        "id": "wq-YonghCYYr"
      },
      "source": [
        "plt.figure(figsize=(100,100))\n",
        "nx.draw(G,node_size=newnodesize,with_labels=True)\n",
        "plt.show()"
      ],
      "execution_count": null,
      "outputs": []
    }
  ]
}